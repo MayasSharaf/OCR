{
 "cells": [
  {
   "cell_type": "code",
   "execution_count": null,
   "id": "2ae382b9-3376-4a1c-8cc5-b641de756dd7",
   "metadata": {},
   "outputs": [],
   "source": [
    "import pytesseract\n",
    "import cv2\n",
    "import numpy as np\n",
    "\n",
    "pytesseract.pytesseract.tesseract_cmd = 'C:\\Program Files\\Tesseract-OCR/tesseract.exe'\n",
    "\n",
    "#preprocessing function\n",
    "def Rescale_Image(image):\n",
    "\n",
    "    return cv2.resize(image, (800,500), interpolation=cv2.INTER_CUBIC)\n",
    "\n",
    "def Grayscale(image):\n",
    "    return cv2.cvtColor(image, cv2.COLOR_BGR2GRAY)\n",
    "\n",
    "def Make_font_thicker(image):\n",
    "    image = cv2.bitwise_not(image)\n",
    "    kernel = np.ones((1,1),np.uint8)\n",
    "    image =cv2.dilate(image,kernel,iterations=1)\n",
    "    image = cv2.bitwise_not(image)\n",
    "    return (image)\n",
    "\n",
    "\n",
    "\n",
    "# Load the image\n",
    "\n",
    "filename = 'photo_2024-05-27_17-08-06.jpg'\n",
    "img = cv2.imread(filename)\n",
    "\n",
    "# call functions\n",
    "\n",
    "result = Rescale_Image(img)\n",
    "result= Grayscale(result)\n",
    "result= Make_font_thicker(result)\n",
    "#Show Image\n",
    "cv2.imshow(\"image\",result)\n",
    "cv2.waitKey(0)\n",
    "\n",
    "\n",
    "# Set the language to Arabic\n",
    "custom_config = r'--oem 3 --psm 6'\n",
    "\n",
    "# Extract the text using the OCR algorithm\n",
    "text = pytesseract.image_to_string(result,lang='ara',config=custom_config)\n",
    "\n",
    "#text = text.strip()\n",
    "text = text.replace('\\n\\n', '\\n')\n",
    "\n",
    "# Print the extracted text\n",
    "print(text)\n",
    "\n",
    " # # saving the  text for every image in a separate .txt file\n",
    "file1 = open(\"text1.txt\", \"w\",encoding='utf-8')\n",
    "file1.write(text)\n",
    "file1.close()"
   ]
  }
 ],
 "metadata": {
  "kernelspec": {
   "display_name": "Python 3 (ipykernel)",
   "language": "python",
   "name": "python3"
  },
  "language_info": {
   "codemirror_mode": {
    "name": "ipython",
    "version": 3
   },
   "file_extension": ".py",
   "mimetype": "text/x-python",
   "name": "python",
   "nbconvert_exporter": "python",
   "pygments_lexer": "ipython3",
   "version": "3.11.7"
  }
 },
 "nbformat": 4,
 "nbformat_minor": 5
}
